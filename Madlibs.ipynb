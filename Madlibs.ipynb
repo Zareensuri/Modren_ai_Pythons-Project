{
  "nbformat": 4,
  "nbformat_minor": 0,
  "metadata": {
    "colab": {
      "provenance": [],
      "toc_visible": true,
      "authorship_tag": "ABX9TyOs5IxKanCk+xrP7Pzaj/jY",
      "include_colab_link": true
    },
    "kernelspec": {
      "name": "python3",
      "display_name": "Python 3"
    },
    "language_info": {
      "name": "python"
    }
  },
  "cells": [
    {
      "cell_type": "markdown",
      "metadata": {
        "id": "view-in-github",
        "colab_type": "text"
      },
      "source": [
        "<a href=\"https://colab.research.google.com/github/Zareensuri/Modren_ai_Pythons-Project/blob/main/Madlibs.ipynb\" target=\"_parent\"><img src=\"https://colab.research.google.com/assets/colab-badge.svg\" alt=\"Open In Colab\"/></a>"
      ]
    },
    {
      "cell_type": "code",
      "source": [
        "story_template = \"\"\"\n",
        "Once upon a time, there was a {adjective} {noun} who loved to {verb}.\n",
        "One day, while {verb}ing, they encountered a {adjective} {noun}.\n",
        "Together, they embarked on a {adjective} adventure.\n",
        "\"\"\"\n",
        "\n",
        "noun1 = input(\"Enter a noun: \")\n",
        "verb1 = input(\"Enter a verb: \")\n",
        "adjective1 = input(\"Enter an adjective: \")\n",
        "noun2 = input(\"Enter another noun: \")\n",
        "adjective2 = input(\"Enter another adjective: \")\n",
        "adjective3 = input(\"Enter one more adjective: \")\n",
        "\n",
        "madlib_story = story_template.format(\n",
        "    noun=noun1, verb=verb1, adjective=adjective1,\n",
        "    noun2=noun2, adjective2=adjective2, adjective3=adjective3\n",
        ")\n",
        "\n",
        "print(madlib_story)"
      ],
      "metadata": {
        "id": "bdo9JvS50bVC"
      },
      "execution_count": null,
      "outputs": []
    }
  ]
}