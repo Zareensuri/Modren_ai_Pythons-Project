{
  "nbformat": 4,
  "nbformat_minor": 0,
  "metadata": {
    "colab": {
      "provenance": [],
      "toc_visible": true,
      "authorship_tag": "ABX9TyNNEugnWXr7RoPKY7Nbg1VF",
      "include_colab_link": true
    },
    "kernelspec": {
      "name": "python3",
      "display_name": "Python 3"
    },
    "language_info": {
      "name": "python"
    }
  },
  "cells": [
    {
      "cell_type": "markdown",
      "metadata": {
        "id": "view-in-github",
        "colab_type": "text"
      },
      "source": [
        "<a href=\"https://colab.research.google.com/github/Zareensuri/Modren_ai_Pythons-Project/blob/main/Hangman_Python_Project_.ipynb\" target=\"_parent\"><img src=\"https://colab.research.google.com/assets/colab-badge.svg\" alt=\"Open In Colab\"/></a>"
      ]
    },
    {
      "cell_type": "code",
      "source": [
        "import random\n",
        "\n",
        "def choose_word():\n",
        "    words = [\"python\", \"developer\", \"hangman\", \"programming\", \"challenge\"]\n",
        "    return random.choice(words)\n",
        "\n",
        "def display_word(word, guessed_letters):\n",
        "    return \" \".join([letter if letter in guessed_letters else \"_\" for letter in word])\n",
        "\n",
        "def hangman():\n",
        "    print(\"Welcome to Hangman!\")\n",
        "    word = choose_word()\n",
        "    guessed_letters = set()\n",
        "    attempts_left = 6\n",
        "\n",
        "    while attempts_left > 0:\n",
        "        print(f\"\\nWord: {display_word(word, guessed_letters)}\")\n",
        "        print(f\"Attempts left: {attempts_left}\")\n",
        "        print(f\"Guessed letters: {', '.join(sorted(guessed_letters)) if guessed_letters else 'None'}\")\n",
        "\n",
        "        guess = input(\"Guess a letter: \").lower()\n",
        "\n",
        "        if len(guess) != 1 or not guess.isalpha():\n",
        "            print(\"Please enter a single letter.\")\n",
        "            continue\n",
        "\n",
        "        if guess in guessed_letters:\n",
        "            print(\"You've already guessed that letter.\")\n",
        "            continue\n",
        "\n",
        "        guessed_letters.add(guess)\n",
        "\n",
        "        if guess in word:\n",
        "            print(f\"Good job! {guess} is in the word.\")\n",
        "            if all(letter in guessed_letters for letter in word):\n",
        "                print(f\"\\nCongratulations! You guessed the word: {word}\")\n",
        "                break\n",
        "        else:\n",
        "            print(f\"Sorry, {guess} is not in the word.\")\n",
        "            attempts_left -= 1\n",
        "\n",
        "        if attempts_left == 0:\n",
        "            print(f\"\\nGame over! The word was: {word}\")\n",
        "\n",
        "if __name__ == \"__main__\":\n",
        "    hangman()\n"
      ],
      "metadata": {
        "colab": {
          "base_uri": "https://localhost:8080/"
        },
        "id": "yyJbuyqQ617s",
        "outputId": "fd2c7f5f-a05f-4a51-d3a2-5288fdab2805"
      },
      "execution_count": null,
      "outputs": [
        {
          "output_type": "stream",
          "name": "stdout",
          "text": [
            "Welcome to Hangman!\n",
            "\n",
            "Word: _ _ _ _ _ _ _ _ _ _ _\n",
            "Attempts left: 6\n",
            "Guessed letters: None\n"
          ]
        }
      ]
    }
  ]
}