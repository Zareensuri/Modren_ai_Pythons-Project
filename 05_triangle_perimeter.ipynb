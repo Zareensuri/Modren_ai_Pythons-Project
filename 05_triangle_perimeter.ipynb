{
  "nbformat": 4,
  "nbformat_minor": 0,
  "metadata": {
    "colab": {
      "provenance": [],
      "authorship_tag": "ABX9TyM7sm56qXXnpCR2Kb1FzoaM",
      "include_colab_link": true
    },
    "kernelspec": {
      "name": "python3",
      "display_name": "Python 3"
    },
    "language_info": {
      "name": "python"
    }
  },
  "cells": [
    {
      "cell_type": "markdown",
      "metadata": {
        "id": "view-in-github",
        "colab_type": "text"
      },
      "source": [
        "<a href=\"https://colab.research.google.com/github/Zareensuri/Modren_ai_Pythons-Project/blob/homework_projects%2F00_intro_python/05_triangle_perimeter.ipynb\" target=\"_parent\"><img src=\"https://colab.research.google.com/assets/colab-badge.svg\" alt=\"Open In Colab\"/></a>"
      ]
    },
    {
      "cell_type": "markdown",
      "source": [
        "# Problem Statement"
      ],
      "metadata": {
        "id": "fsg7A1Voyz3c"
      }
    },
    {
      "cell_type": "markdown",
      "source": [
        "Prompt the user to enter the lengths of each side of a triangle and then calculate and print the perimeter of the triangle (the sum of all of the side lengths).\n",
        "\n",
        "Here's a sample run of the program (user input is in bold italics):\n",
        "\n",
        "What is the length of side 1? 3\n",
        "\n",
        "What is the length of side 2? 4\n",
        "\n",
        "What is the length of side 3? 5.5\n",
        "\n",
        "The perimeter of the triangle is 12.5"
      ],
      "metadata": {
        "id": "_vK81kAey3Z1"
      }
    },
    {
      "cell_type": "markdown",
      "source": [
        "# Starter Code"
      ],
      "metadata": {
        "id": "3rgRNTyMzEpZ"
      }
    },
    {
      "cell_type": "code",
      "source": [
        "# Get the lengths of the sides from the user\n",
        "side1 = float(input(\"What is the length of side 1? \"))\n",
        "side2 = float(input(\"What is the length of side 2? \"))\n",
        "side3 = float(input(\"What is the length of side 3? \"))\n",
        "\n",
        "# Calculate the perimeter\n",
        "perimeter = side1 + side2 + side3\n",
        "\n",
        "# Print the result\n",
        "print(\"The perimeter of the triangle is\", perimeter)"
      ],
      "metadata": {
        "id": "kAAPcElh5cSM"
      },
      "execution_count": null,
      "outputs": []
    },
    {
      "cell_type": "markdown",
      "source": [
        "# **How it works:**\n",
        "\n",
        "**Get Input:** The program uses the input() function to prompt the user for the length of each side of the triangle. The input is converted to a floating-point number using float() to allow for decimal values.\n",
        "**Calculate Perimeter:** The perimeter is calculated by simply adding up the lengths of the three sides (side1, side2, side3).\n",
        "**Print Result:** The calculated perimeter is printed to the console using the print() function"
      ],
      "metadata": {
        "id": "S0USkm8Q6Nnm"
      }
    }
  ]
}