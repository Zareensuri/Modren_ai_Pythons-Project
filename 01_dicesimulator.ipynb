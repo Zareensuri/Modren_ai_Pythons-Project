{
  "nbformat": 4,
  "nbformat_minor": 0,
  "metadata": {
    "colab": {
      "provenance": [],
      "name": "01_dicesimulator.ipynb",
      "authorship_tag": "ABX9TyNL+o8n9SfDEa1lnbj+Wriq",
      "include_colab_link": true
    },
    "kernelspec": {
      "name": "python3",
      "display_name": "Python 3"
    },
    "language_info": {
      "name": "python"
    }
  },
  "cells": [
    {
      "cell_type": "markdown",
      "metadata": {
        "id": "view-in-github",
        "colab_type": "text"
      },
      "source": [
        "<a href=\"https://colab.research.google.com/github/Zareensuri/Modren_ai_Pythons-Project/blob/main/01_dicesimulator.ipynb\" target=\"_parent\"><img src=\"https://colab.research.google.com/assets/colab-badge.svg\" alt=\"Open In Colab\"/></a>"
      ]
    },
    {
      "cell_type": "markdown",
      "source": [
        "# Problem Statement"
      ],
      "metadata": {
        "id": "fsg7A1Voyz3c"
      }
    },
    {
      "cell_type": "markdown",
      "source": [
        "Simulate rolling two dice, three times. Prints the results of each die roll. This program is used to show how variable scope works."
      ],
      "metadata": {
        "id": "_vK81kAey3Z1"
      }
    },
    {
      "cell_type": "markdown",
      "source": [
        "# Starter Code"
      ],
      "metadata": {
        "id": "3rgRNTyMzEpZ"
      }
    },
    {
      "cell_type": "code",
      "source": [
        "import random\n",
        "\n",
        "def roll_dice():\n",
        "  \"\"\"Simulates rolling two dice and returns the results.\"\"\"\n",
        "  die1 = random.randint(1, 6)\n",
        "  die2 = random.randint(1, 6)\n",
        "  return die1, die2\n",
        "\n",
        "def main():\n",
        "  \"\"\"Rolls the dice three times and prints the results.\"\"\"\n",
        "  for _ in range(3):  # Simulate 3 rolls\n",
        "    die1_result, die2_result = roll_dice()\n",
        "    print(f\"Roll: Die 1 = {die1_result}, Die 2 = {die2_result}\")\n",
        "\n",
        "if __name__ == \"__main__\":\n",
        "  main()"
      ],
      "metadata": {
        "id": "hQFQG9iZr4ln",
        "outputId": "a34ce55b-e7e5-46ac-8280-e667b77876e3",
        "colab": {
          "base_uri": "https://localhost:8080/"
        }
      },
      "execution_count": 1,
      "outputs": [
        {
          "output_type": "stream",
          "name": "stdout",
          "text": [
            "Roll: Die 1 = 6, Die 2 = 2\n",
            "Roll: Die 1 = 2, Die 2 = 3\n",
            "Roll: Die 1 = 2, Die 2 = 2\n"
          ]
        }
      ]
    }
  ]
}