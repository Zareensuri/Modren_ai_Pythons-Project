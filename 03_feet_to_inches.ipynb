{
  "nbformat": 4,
  "nbformat_minor": 0,
  "metadata": {
    "colab": {
      "provenance": [],
      "name": "03_feet_to_inches.ipynb",
      "authorship_tag": "ABX9TyNNr8e7eXRhZgCtpllzfBi3",
      "include_colab_link": true
    },
    "kernelspec": {
      "name": "python3",
      "display_name": "Python 3"
    },
    "language_info": {
      "name": "python"
    }
  },
  "cells": [
    {
      "cell_type": "markdown",
      "metadata": {
        "id": "view-in-github",
        "colab_type": "text"
      },
      "source": [
        "<a href=\"https://colab.research.google.com/github/Zareensuri/Modren_ai_Pythons-Project/blob/homework_projects%2F00_intro_python/03_feet_to_inches.ipynb\" target=\"_parent\"><img src=\"https://colab.research.google.com/assets/colab-badge.svg\" alt=\"Open In Colab\"/></a>"
      ]
    },
    {
      "cell_type": "markdown",
      "source": [
        "# Problem Statement"
      ],
      "metadata": {
        "id": "fsg7A1Voyz3c"
      }
    },
    {
      "cell_type": "markdown",
      "source": [
        "\n",
        "Converts feet to inches. Feet is an American unit of measurement. There are 12 inches per foot. Foot is the singular, and feet is the plural."
      ],
      "metadata": {
        "id": "_vK81kAey3Z1"
      }
    },
    {
      "cell_type": "markdown",
      "source": [
        "# Starter Code"
      ],
      "metadata": {
        "id": "3rgRNTyMzEpZ"
      }
    },
    {
      "cell_type": "code",
      "source": [
        "def feet_to_inches(feet):\n",
        "  \"\"\"Converts feet to inches.\n",
        "\n",
        "  Args:\n",
        "    feet: The number of feet.\n",
        "\n",
        "  Returns:\n",
        "    The equivalent number of inches.\n",
        "  \"\"\"\n",
        "  inches = feet * 12  # There are 12 inches per foot\n",
        "  return inches\n",
        "\n",
        "# Get input from the user\n",
        "feet = float(input(\"Enter the number of feet: \"))\n",
        "\n",
        "# Convert feet to inches\n",
        "inches = feet_to_inches(feet)\n",
        "\n",
        "# Print the result\n",
        "print(f\"{feet} feet is equal to {inches} inches.\")"
      ],
      "metadata": {
        "id": "LvazLMJoxJ9Z",
        "outputId": "4f261a6b-19bd-444b-9fbd-0a744ac2bd93",
        "colab": {
          "base_uri": "https://localhost:8080/"
        }
      },
      "execution_count": 3,
      "outputs": [
        {
          "output_type": "stream",
          "name": "stdout",
          "text": [
            "Enter the number of feet: 5\n",
            "5.0 feet is equal to 60.0 inches.\n"
          ]
        }
      ]
    }
  ]
}