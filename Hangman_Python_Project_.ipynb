{
  "nbformat": 4,
  "nbformat_minor": 0,
  "metadata": {
    "colab": {
      "provenance": [],
      "toc_visible": true,
      "authorship_tag": "ABX9TyMYitdT6UzqyJFh295ZNaig",
      "include_colab_link": true
    },
    "kernelspec": {
      "name": "python3",
      "display_name": "Python 3"
    },
    "language_info": {
      "name": "python"
    }
  },
  "cells": [
    {
      "cell_type": "markdown",
      "metadata": {
        "id": "view-in-github",
        "colab_type": "text"
      },
      "source": [
        "<a href=\"https://colab.research.google.com/github/Zareensuri/Modren_ai_Pythons-Project/blob/main/Hangman_Python_Project_.ipynb\" target=\"_parent\"><img src=\"https://colab.research.google.com/assets/colab-badge.svg\" alt=\"Open In Colab\"/></a>"
      ]
    },
    {
      "cell_type": "markdown",
      "source": [
        "Step 1: Plan the Game\n",
        "The Hangman game typically involves:\n",
        "\n",
        "Choosing a secret word.\n",
        "Displaying blanks for the word.\n",
        "Allowing the player to guess letters.\n",
        "Tracking incorrect guesses.\n",
        "Displaying the current state of the \"hangman.\"\n",
        "Ending the game when the word is guessed or the player runs out of attempts."
      ],
      "metadata": {
        "id": "5SbTsG1M7ia7"
      }
    },
    {
      "cell_type": "markdown",
      "source": [
        "Step 2: Basic Structure of the Code\n",
        "Define a list of words to choose from.\n",
        "Randomly select a word for the game.\n",
        "Use a loop to allow the player to guess letters.\n",
        "Update the display and keep track of incorrect guesses.\n",
        "Show the result when the game ends."
      ],
      "metadata": {
        "id": "p16L-Y-B7oog"
      }
    },
    {
      "cell_type": "code",
      "source": [
        "import random\n",
        "\n",
        "def choose_word():\n",
        "    words = [\"python\", \"developer\", \"hangman\", \"programming\", \"challenge\"]\n",
        "    return random.choice(words)\n",
        "\n",
        "def display_word(word, guessed_letters):\n",
        "    return \" \".join([letter if letter in guessed_letters else \"_\" for letter in word])\n",
        "\n",
        "def hangman():\n",
        "    print(\"Welcome to Hangman!\")\n",
        "    word = choose_word()\n",
        "    guessed_letters = set()\n",
        "    attempts_left = 6\n",
        "\n",
        "    while attempts_left > 0:\n",
        "        print(f\"\\nWord: {display_word(word, guessed_letters)}\")\n",
        "        print(f\"Attempts left: {attempts_left}\")\n",
        "        print(f\"Guessed letters: {', '.join(sorted(guessed_letters)) if guessed_letters else 'None'}\")\n",
        "\n",
        "        guess = input(\"Guess a letter: \").lower()\n",
        "\n",
        "        if len(guess) != 1 or not guess.isalpha():\n",
        "            print(\"Please enter a single letter.\")\n",
        "            continue\n",
        "\n",
        "        if guess in guessed_letters:\n",
        "            print(\"You've already guessed that letter.\")\n",
        "            continue\n",
        "\n",
        "        guessed_letters.add(guess)\n",
        "\n",
        "        if guess in word:\n",
        "            print(f\"Good job! {guess} is in the word.\")\n",
        "            if all(letter in guessed_letters for letter in word):\n",
        "                print(f\"\\nCongratulations! You guessed the word: {word}\")\n",
        "                break\n",
        "        else:\n",
        "            print(f\"Sorry, {guess} is not in the word.\")\n",
        "            attempts_left -= 1\n",
        "\n",
        "        if attempts_left == 0:\n",
        "            print(f\"\\nGame over! The word was: {word}\")\n",
        "\n",
        "if __name__ == \"__main__\":\n",
        "    hangman()\n"
      ],
      "metadata": {
        "colab": {
          "base_uri": "https://localhost:8080/"
        },
        "id": "q8nCs0Sh7wrF",
        "outputId": "d0024e31-20ca-4e5a-cde6-b68f65cb7be1"
      },
      "execution_count": null,
      "outputs": [
        {
          "output_type": "stream",
          "name": "stdout",
          "text": [
            "Welcome to Hangman!\n",
            "\n",
            "Word: _ _ _ _ _ _\n",
            "Attempts left: 6\n",
            "Guessed letters: None\n"
          ]
        }
      ]
    },
    {
      "cell_type": "markdown",
      "source": [
        "Explanation of the Code\n",
        "Word Selection:\n",
        "\n",
        "A random word is chosen from the words list using random.choice().\n",
        "Display Word:\n",
        "\n",
        "The function display_word shows the word with guessed letters revealed and underscores for unguessed letters.\n",
        "Main Game Logic:\n",
        "\n",
        "The player is prompted to guess a letter.\n",
        "Input validation ensures only single alphabetical characters are accepted.\n",
        "The guessed letter is checked against the word.\n",
        "Correct guesses reveal letters in the word, and incorrect guesses reduce the number of attempts left.\n",
        "End Conditions:\n",
        "\n",
        "The player wins by guessing the word.\n",
        "The game ends when the player runs out of attempts, and the word is revealed."
      ],
      "metadata": {
        "id": "97_8usDS7-v-"
      }
    },
    {
      "cell_type": "markdown",
      "source": [
        "Step 4: Run and Test the Game\n",
        "Save the script to a .py file and run it in a Python interpreter.\n",
        "Try different inputs to see how the game responds to correct and incorrect guesses.\n",
        "Would you like to enhance this project further, such as adding a graphical hangman or word categories?"
      ],
      "metadata": {
        "id": "s9O03sng8F3z"
      }
    }
  ]
}