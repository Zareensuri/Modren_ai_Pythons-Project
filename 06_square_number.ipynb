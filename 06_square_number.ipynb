{
  "nbformat": 4,
  "nbformat_minor": 0,
  "metadata": {
    "colab": {
      "provenance": [],
      "authorship_tag": "ABX9TyN1nICO3y/hf06eXKow46i9",
      "include_colab_link": true
    },
    "kernelspec": {
      "name": "python3",
      "display_name": "Python 3"
    },
    "language_info": {
      "name": "python"
    }
  },
  "cells": [
    {
      "cell_type": "markdown",
      "metadata": {
        "id": "view-in-github",
        "colab_type": "text"
      },
      "source": [
        "<a href=\"https://colab.research.google.com/github/Zareensuri/Modren_ai_Pythons-Project/blob/homework_projects%2F00_intro_python/06_square_number.ipynb\" target=\"_parent\"><img src=\"https://colab.research.google.com/assets/colab-badge.svg\" alt=\"Open In Colab\"/></a>"
      ]
    },
    {
      "cell_type": "markdown",
      "source": [
        "# Problem Statement"
      ],
      "metadata": {
        "id": "fsg7A1Voyz3c"
      }
    },
    {
      "cell_type": "markdown",
      "source": [
        "Ask the user for a number and print its square (the product of the number times itself).\n",
        "\n",
        "Here's a sample run of the program (user input is in bold italics):\n",
        "\n",
        "Type a number to see its square: 4\n",
        "\n",
        "4.0 squared is 16.0"
      ],
      "metadata": {
        "id": "_vK81kAey3Z1"
      }
    },
    {
      "cell_type": "markdown",
      "source": [
        "# Starter Code"
      ],
      "metadata": {
        "id": "3rgRNTyMzEpZ"
      }
    },
    {
      "cell_type": "code",
      "source": [
        "# Get input from the user\n",
        "number = float(input(\"Type a number to see its square: \"))\n",
        "\n",
        "# Calculate the square\n",
        "square = number ** 2\n",
        "\n",
        "# Print the result\n",
        "print(f\"{number} squared is {square}\")"
      ],
      "metadata": {
        "id": "KcU30xqy7fxg"
      },
      "execution_count": null,
      "outputs": []
    },
    {
      "cell_type": "markdown",
      "source": [
        "# **How it works:**\n",
        "\n",
        "\n",
        "**Get Input:** The input() function is used to prompt the user to enter a number. The input is stored as a string, which is then converted to a floating-point number using float(). This allows the program to handle both integer and decimal inputs.\n",
        "\n",
        "**Calculate Square:** The square of the number is calculated using the exponentiation operator **. This operator raises the number to the power of 2, effectively squaring it.\n",
        "\n",
        "**Print Result:** The original number and its square are displayed using an f-string, which allows for easy formatting of the output. The result is printed to the console."
      ],
      "metadata": {
        "id": "S0USkm8Q6Nnm"
      }
    }
  ]
}