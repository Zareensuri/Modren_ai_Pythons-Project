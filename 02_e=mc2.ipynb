{
  "nbformat": 4,
  "nbformat_minor": 0,
  "metadata": {
    "colab": {
      "provenance": [],
      "name": "02_e=mc2.ipynb",
      "authorship_tag": "ABX9TyNHQRRFqbdIcem/YNneWXZy",
      "include_colab_link": true
    },
    "kernelspec": {
      "name": "python3",
      "display_name": "Python 3"
    },
    "language_info": {
      "name": "python"
    }
  },
  "cells": [
    {
      "cell_type": "markdown",
      "metadata": {
        "id": "view-in-github",
        "colab_type": "text"
      },
      "source": [
        "<a href=\"https://colab.research.google.com/github/Zareensuri/Modren_ai_Pythons-Project/blob/homework_projects%2F00_intro_python/02_e%3Dmc2.ipynb\" target=\"_parent\"><img src=\"https://colab.research.google.com/assets/colab-badge.svg\" alt=\"Open In Colab\"/></a>"
      ]
    },
    {
      "cell_type": "markdown",
      "source": [
        "# Problem Statement"
      ],
      "metadata": {
        "id": "fsg7A1Voyz3c"
      }
    },
    {
      "cell_type": "markdown",
      "source": [
        "Write a program that continually reads in mass from the user and then outputs the equivalent energy using Einstein's mass-energy equivalence formula (E stands for energy, m stands for mass, and C is the speed of light:\n",
        "\n",
        "E = m * c**2\n",
        "\n",
        "Almost 100 years ago, Albert Einstein famously discovered that mass and energy are interchangeable and are related by the above equation. You should ask the user for mass (m) in kilograms and use a constant value for the speed of light -- C = 299792458 m/s.\n",
        "\n",
        "Here's a sample run of the program (user input is in bold italics):\n",
        "\n",
        "Enter kilos of mass: 100\n",
        "\n",
        "e = m * C^2...\n",
        "\n",
        "m = 100.0 kg\n",
        "\n",
        "C = 299792458 m/s\n",
        "\n",
        "8.987551787368176e+18 joules of energy!"
      ],
      "metadata": {
        "id": "_vK81kAey3Z1"
      }
    },
    {
      "cell_type": "markdown",
      "source": [
        "# Starter Code"
      ],
      "metadata": {
        "id": "3rgRNTyMzEpZ"
      }
    },
    {
      "cell_type": "code",
      "source": [
        "def calculate_energy(mass):\n",
        "  \"\"\"Calculates energy using Einstein's mass-energy equivalence formula.\n",
        "\n",
        "  Args:\n",
        "    mass: The mass in kilograms.\n",
        "\n",
        "  Returns:\n",
        "    The energy in joules.\n",
        "  \"\"\"\n",
        "  # Speed of light in meters per second\n",
        "  C = 299792458\n",
        "  # Calculate energy\n",
        "  energy = mass * C**2\n",
        "  return energy\n",
        "\n",
        "\n",
        "while True:\n",
        "  try:\n",
        "    # Get mass input from the user\n",
        "    mass = float(input(\"Enter kilos of mass: \"))\n",
        "    # Calculate energy\n",
        "    energy = calculate_energy(mass)\n",
        "    # Print the results\n",
        "    print(\"\\ne = m * C^2...\")\n",
        "    print(\"\\nm =\", mass, \"kg\")\n",
        "    print(\"\\nC =\", C, \"m/s\")\n",
        "    print(f\"\\n{energy} joules of energy!\\n\")\n",
        "  except ValueError:\n",
        "    print(\"Invalid input. Please enter a valid number for mass.\")\n",
        "  except KeyboardInterrupt:\n",
        "    print(\"\\nExiting program.\")\n",
        "    break # Exit the loop when Ctrl+C is pressed"
      ],
      "metadata": {
        "id": "cwQSTDJYvGFr"
      },
      "execution_count": null,
      "outputs": []
    }
  ]
}