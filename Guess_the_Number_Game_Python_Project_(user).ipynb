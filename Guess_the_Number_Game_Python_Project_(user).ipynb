{
  "nbformat": 4,
  "nbformat_minor": 0,
  "metadata": {
    "colab": {
      "provenance": [],
      "toc_visible": true,
      "authorship_tag": "ABX9TyNUQ9zAO/oXwwXUDoALH5jF",
      "include_colab_link": true
    },
    "kernelspec": {
      "name": "python3",
      "display_name": "Python 3"
    },
    "language_info": {
      "name": "python"
    }
  },
  "cells": [
    {
      "cell_type": "markdown",
      "metadata": {
        "id": "view-in-github",
        "colab_type": "text"
      },
      "source": [
        "<a href=\"https://colab.research.google.com/github/Zareensuri/Modren_ai_Pythons-Project/blob/main/Guess_the_Number_Game_Python_Project_(user).ipynb\" target=\"_parent\"><img src=\"https://colab.research.google.com/assets/colab-badge.svg\" alt=\"Open In Colab\"/></a>"
      ]
    },
    {
      "cell_type": "code",
      "source": [
        "import random\n",
        "\n",
        "lower_bound = 1\n",
        "upper_bound = 100\n",
        "secret_number = random.randint(lower_bound, upper_bound)\n",
        "\n",
        "print(\"I'm thinking of a number between\", lower_bound, \"and\", upper_bound)\n",
        "\n",
        "guesses_taken = 0\n",
        "while True:\n",
        "    try:\n",
        "        guess = int(input(\"Take a guess: \"))\n",
        "    except ValueError:\n",
        "        print(\"Invalid input. Please enter a number.\")\n",
        "        continue\n",
        "\n",
        "    guesses_taken += 1\n",
        "\n",
        "    if guess < secret_number:\n",
        "        print(\"Too low!\")\n",
        "    elif guess > secret_number:\n",
        "        print(\"Too high!\")\n",
        "    else:\n",
        "        print(\"Good job! You guessed my number in\", guesses_taken, \"guesses!\")\n",
        "        break"
      ],
      "metadata": {
        "colab": {
          "base_uri": "https://localhost:8080/"
        },
        "id": "asqus1sF3wDA",
        "outputId": "c0e7df58-fa53-4d1f-f188-7d1950c5ac96"
      },
      "execution_count": 8,
      "outputs": [
        {
          "output_type": "stream",
          "name": "stdout",
          "text": [
            "I'm thinking of a number between 1 and 100\n",
            "Take a guess: 59\n",
            "Too high!\n",
            "Take a guess: 40\n",
            "Too low!\n",
            "Take a guess: 45\n",
            "Too low!\n",
            "Take a guess: 50\n",
            "Too high!\n",
            "Take a guess: 47\n",
            "Too low!\n",
            "Take a guess: 49\n",
            "Good job! You guessed my number in 6 guesses!\n"
          ]
        }
      ]
    }
  ]
}