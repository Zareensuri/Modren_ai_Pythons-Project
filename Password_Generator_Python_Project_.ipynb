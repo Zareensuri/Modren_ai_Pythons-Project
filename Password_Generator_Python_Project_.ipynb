{
  "nbformat": 4,
  "nbformat_minor": 0,
  "metadata": {
    "colab": {
      "provenance": [],
      "toc_visible": true,
      "authorship_tag": "ABX9TyOPEYqcGDeEhf0DDkIUM+3x",
      "include_colab_link": true
    },
    "kernelspec": {
      "name": "python3",
      "display_name": "Python 3"
    },
    "language_info": {
      "name": "python"
    }
  },
  "cells": [
    {
      "cell_type": "markdown",
      "metadata": {
        "id": "view-in-github",
        "colab_type": "text"
      },
      "source": [
        "<a href=\"https://colab.research.google.com/github/Zareensuri/Modren_ai_Pythons-Project/blob/main/Password_Generator_Python_Project_.ipynb\" target=\"_parent\"><img src=\"https://colab.research.google.com/assets/colab-badge.svg\" alt=\"Open In Colab\"/></a>"
      ]
    },
    {
      "cell_type": "markdown",
      "source": [
        "Python code snippet for generating a random password:"
      ],
      "metadata": {
        "id": "pUerJ9_GLyTa"
      }
    },
    {
      "cell_type": "code",
      "source": [
        "import random\n",
        "import string\n",
        "\n",
        "def generate_password(length=12, include_digits=True, include_symbols=True):\n",
        "    \"\"\"Generates a random password.\n",
        "\n",
        "    Args:\n",
        "        length: The desired length of the password.\n",
        "        include_digits: Whether to include digits in the password.\n",
        "        include_symbols: Whether to include symbols in the password.\n",
        "\n",
        "    Returns:\n",
        "        A randomly generated password.\n",
        "    \"\"\"\n",
        "\n",
        "    characters = string.ascii_letters\n",
        "    if include_digits:\n",
        "        characters += string.digits\n",
        "    if include_symbols:\n",
        "        characters += string.punctuation\n",
        "\n",
        "    password = ''.join(random.choice(characters) for _ in range(length))\n",
        "    return password\n",
        "\n",
        "# Generate a password with default settings\n",
        "password = generate_password()\n",
        "print(password)\n",
        "\n",
        "# Generate a password with custom settings\n",
        "password = generate_password(length=16, include_symbols=False)\n",
        "print(password)"
      ],
      "metadata": {
        "colab": {
          "base_uri": "https://localhost:8080/"
        },
        "id": "wAFSyP2BLtOW",
        "outputId": "557fee1a-4067-4bda-84c3-8e0275b67259"
      },
      "execution_count": 27,
      "outputs": [
        {
          "output_type": "stream",
          "name": "stdout",
          "text": [
            "#CNa'Wk\"+1Dw\n",
            "B5MDKSlZIviqhEwg\n"
          ]
        }
      ]
    },
    {
      "cell_type": "markdown",
      "source": [
        "\n",
        "How it works:\n",
        "\n",
        "Import necessary modules: random for generating random characters and string for accessing character sets.\n",
        "Define the function: generate_password takes the desired password length and options for including digits and symbols as arguments.\n",
        "Build character set: It starts with lowercase and uppercase letters, then adds digits and symbols based on the given options.\n",
        "Generate password: It randomly selects characters from the set and joins them to form the password.\n",
        "Return the password: The function returns the generated password.\n",
        "Example usage: It demonstrates how to generate passwords with default and custom settings."
      ],
      "metadata": {
        "id": "hNVeTNvRMCSv"
      }
    }
  ]
}