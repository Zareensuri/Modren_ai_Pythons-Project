{
  "nbformat": 4,
  "nbformat_minor": 0,
  "metadata": {
    "colab": {
      "provenance": [],
      "toc_visible": true,
      "authorship_tag": "ABX9TyNjtufBs6mENoyJMchqBsDR",
      "include_colab_link": true
    },
    "kernelspec": {
      "name": "python3",
      "display_name": "Python 3"
    },
    "language_info": {
      "name": "python"
    }
  },
  "cells": [
    {
      "cell_type": "markdown",
      "metadata": {
        "id": "view-in-github",
        "colab_type": "text"
      },
      "source": [
        "<a href=\"https://colab.research.google.com/github/Zareensuri/Modren_ai_Pythons-Project/blob/main/Guess_the_Number_Game_Python_Project_(computer).ipynb\" target=\"_parent\"><img src=\"https://colab.research.google.com/assets/colab-badge.svg\" alt=\"Open In Colab\"/></a>"
      ]
    },
    {
      "cell_type": "code",
      "source": [
        "import random\n",
        "\n",
        "lower_bound = 1\n",
        "upper_bound = 100\n",
        "\n",
        "print(\"Think of a number between\", lower_bound, \"and\", upper_bound)\n",
        "input(\"Press Enter when you're ready...\")\n",
        "\n",
        "guesses_taken = 0\n",
        "while True:\n",
        "    guesses_taken += 1\n",
        "    guess = random.randint(lower_bound, upper_bound)\n",
        "    print(\"Computer's guess:\", guess)\n",
        "\n",
        "    feedback = input(\"Is it too high (H), too low (L), or correct (C)? \").upper()\n",
        "\n",
        "    if feedback == \"H\":\n",
        "        upper_bound = guess - 1\n",
        "    elif feedback == \"L\":\n",
        "        lower_bound = guess + 1\n",
        "    elif feedback == \"C\":\n",
        "        print(\"Computer guessed it in\", guesses_taken, \"tries!\")\n",
        "        break\n",
        "    else:\n",
        "        print(\"Invalid input. Please enter H, L, or C.\")"
      ],
      "metadata": {
        "colab": {
          "base_uri": "https://localhost:8080/"
        },
        "id": "OZHd3Apb2qhf",
        "outputId": "e50b9f17-4301-472e-941b-5d01b3424d9f"
      },
      "execution_count": null,
      "outputs": [
        {
          "output_type": "stream",
          "name": "stdout",
          "text": [
            "Think of a number between 1 and 100\n",
            "Press Enter when you're ready...50\n",
            "Computer's guess: 95\n",
            "Is it too high (H), too low (L), or correct (C)? H\n",
            "Computer's guess: 46\n",
            "Is it too high (H), too low (L), or correct (C)? L\n",
            "Computer's guess: 90\n",
            "Is it too high (H), too low (L), or correct (C)? H\n",
            "Computer's guess: 80\n",
            "Is it too high (H), too low (L), or correct (C)? H\n",
            "Computer's guess: 69\n"
          ]
        }
      ]
    }
  ]
}