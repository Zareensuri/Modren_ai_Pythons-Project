{
  "nbformat": 4,
  "nbformat_minor": 0,
  "metadata": {
    "colab": {
      "provenance": [],
      "toc_visible": true,
      "authorship_tag": "ABX9TyMPJkSiHM6KNxUG/laWVHUp",
      "include_colab_link": true
    },
    "kernelspec": {
      "name": "python3",
      "display_name": "Python 3"
    },
    "language_info": {
      "name": "python"
    }
  },
  "cells": [
    {
      "cell_type": "markdown",
      "metadata": {
        "id": "view-in-github",
        "colab_type": "text"
      },
      "source": [
        "<a href=\"https://colab.research.google.com/github/Zareensuri/Modren_ai_Pythons-Project/blob/main/Rock%2C_paper%2C_scissors_Python_.ipynb\" target=\"_parent\"><img src=\"https://colab.research.google.com/assets/colab-badge.svg\" alt=\"Open In Colab\"/></a>"
      ]
    },
    {
      "cell_type": "code",
      "source": [
        "import random\n",
        "\n",
        "choices = [\"rock\", \"paper\", \"scissors\"]\n",
        "\n",
        "def determine_winner(user_choice, computer_choice):\n",
        "    print(\"You chose:\", user_choice)\n",
        "    print(\"Computer chose:\", computer_choice)\n",
        "    if user_choice == computer_choice:\n",
        "        print(\"It's a tie!\")\n",
        "    elif (user_choice == \"rock\" and computer_choice == \"scissors\") or \\\n",
        "         (user_choice == \"paper\" and computer_choice == \"rock\") or \\\n",
        "         (user_choice == \"scissors\" and computer_choice == \"paper\"):\n",
        "        print(\"You win!\")\n",
        "    else:\n",
        "        print(\"You lose!\")\n",
        "\n",
        "while True:\n",
        "    user_choice = input(\"Enter your choice (rock, paper, scissors): \").lower()\n",
        "    if user_choice in choices:\n",
        "        computer_choice = random.choice(choices)\n",
        "        determine_winner(user_choice, computer_choice)\n",
        "        break\n",
        "    else:\n",
        "        print(\"Invalid choice. Please enter rock, paper, or scissors.\")"
      ],
      "metadata": {
        "colab": {
          "base_uri": "https://localhost:8080/"
        },
        "id": "pGV7i7lX4kFs",
        "outputId": "156f0d33-7530-429a-df4a-eafa1fdce78e"
      },
      "execution_count": 9,
      "outputs": [
        {
          "output_type": "stream",
          "name": "stdout",
          "text": [
            "Enter your choice (rock, paper, scissors): r\n",
            "Invalid choice. Please enter rock, paper, or scissors.\n",
            "Enter your choice (rock, paper, scissors): paper\n",
            "You chose: paper\n",
            "Computer chose: paper\n",
            "It's a tie!\n"
          ]
        }
      ]
    }
  ]
}