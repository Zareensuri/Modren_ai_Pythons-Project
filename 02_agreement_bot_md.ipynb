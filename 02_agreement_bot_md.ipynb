{
  "nbformat": 4,
  "nbformat_minor": 0,
  "metadata": {
    "colab": {
      "provenance": [],
      "authorship_tag": "ABX9TyNS3WMfYgUV260tds5C7Emv",
      "include_colab_link": true
    },
    "kernelspec": {
      "name": "python3",
      "display_name": "Python 3"
    },
    "language_info": {
      "name": "python"
    }
  },
  "cells": [
    {
      "cell_type": "markdown",
      "metadata": {
        "id": "view-in-github",
        "colab_type": "text"
      },
      "source": [
        "<a href=\"https://colab.research.google.com/github/Zareensuri/Modren_ai_Pythons-Project/blob/homework_projects%2F00_intro_python/02_agreement_bot_md.ipynb\" target=\"_parent\"><img src=\"https://colab.research.google.com/assets/colab-badge.svg\" alt=\"Open In Colab\"/></a>"
      ]
    },
    {
      "cell_type": "markdown",
      "source": [
        "# Problem Statement"
      ],
      "metadata": {
        "id": "fsg7A1Voyz3c"
      }
    },
    {
      "cell_type": "markdown",
      "source": [
        "Write a program which asks the user what their favorite animal is, and then always responds with \"My favorite animal is also ___!\" (the blank should be filled in with the user-inputted animal, of course).\n",
        "\n",
        "Here's a sample run of the program (user input is in bold italics - note the space between the prompt and the user input!):\n",
        "\n",
        "What's your favorite animal? cow\n",
        "\n",
        "My favorite animal is also cow!"
      ],
      "metadata": {
        "id": "_vK81kAey3Z1"
      }
    },
    {
      "cell_type": "markdown",
      "source": [
        "# Starter Code"
      ],
      "metadata": {
        "id": "3rgRNTyMzEpZ"
      }
    },
    {
      "cell_type": "code",
      "source": [
        "def favorite_animal():\n",
        "  \"\"\"Asks the user for their favorite animal and prints a response.\"\"\"\n",
        "  animal = input(\"What's your favorite animal? \")\n",
        "  print(f\"My favorite animal is also {animal}!\")\n",
        "\n",
        "# Call the function to run the program.\n",
        "favorite_animal()"
      ],
      "metadata": {
        "id": "vWESPdZq1YpP"
      },
      "execution_count": null,
      "outputs": []
    },
    {
      "cell_type": "code",
      "source": [],
      "metadata": {
        "id": "xzE906rf11XL"
      },
      "execution_count": null,
      "outputs": []
    }
  ]
}