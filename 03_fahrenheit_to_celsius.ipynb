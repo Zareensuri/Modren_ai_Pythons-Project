{
  "nbformat": 4,
  "nbformat_minor": 0,
  "metadata": {
    "colab": {
      "provenance": [],
      "authorship_tag": "ABX9TyNQswuPl39cxudv7Eywsz6m",
      "include_colab_link": true
    },
    "kernelspec": {
      "name": "python3",
      "display_name": "Python 3"
    },
    "language_info": {
      "name": "python"
    }
  },
  "cells": [
    {
      "cell_type": "markdown",
      "metadata": {
        "id": "view-in-github",
        "colab_type": "text"
      },
      "source": [
        "<a href=\"https://colab.research.google.com/github/Zareensuri/Modren_ai_Pythons-Project/blob/homework_projects%2F00_intro_python/03_fahrenheit_to_celsius.ipynb\" target=\"_parent\"><img src=\"https://colab.research.google.com/assets/colab-badge.svg\" alt=\"Open In Colab\"/></a>"
      ]
    },
    {
      "cell_type": "markdown",
      "source": [
        "# Problem Statement"
      ],
      "metadata": {
        "id": "fsg7A1Voyz3c"
      }
    },
    {
      "cell_type": "markdown",
      "source": [
        "Write a program which prompts the user for a temperature in Fahrenheit (this can be a number with decimal places!) and outputs the temperature converted to Celsius.\n",
        "\n",
        "The Celsius scale is widely used to measure temperature, but places still use Fahrenheit. Fahrenheit is another unit for temperature, but the scale is different from Celsius -- for example, 0 degrees Celsius is 32 degrees Fahrenheit!\n",
        "\n",
        "The equation you should use for converting from Fahrenheit to Celsius is the following:\n",
        "\n",
        "degrees_celsius = (degrees_fahrenheit - 32) * 5.0/9.0\n",
        "\n",
        "(Note. The .0 after the 5 and 9 matters in the line above!!!)\n",
        "\n",
        "Here's a sample run of the program (user input is in bold italics):\n",
        "\n",
        "Enter temperature in Fahrenheit: 76\n",
        "\n",
        "Temperature: 76.0F = 24.444444444444443C"
      ],
      "metadata": {
        "id": "_vK81kAey3Z1"
      }
    },
    {
      "cell_type": "markdown",
      "source": [
        "# Starter Code"
      ],
      "metadata": {
        "id": "3rgRNTyMzEpZ"
      }
    },
    {
      "cell_type": "code",
      "source": [
        "def fahrenheit_to_celsius(fahrenheit):\n",
        "  \"\"\"Converts Fahrenheit to Celsius.\n",
        "\n",
        "  Args:\n",
        "    fahrenheit: The temperature in Fahrenheit.\n",
        "\n",
        "  Returns:\n",
        "    The temperature in Celsius.\n",
        "  \"\"\"\n",
        "  celsius = (fahrenheit - 32) * 5.0 / 9.0\n",
        "  return celsius\n",
        "\n",
        "\n",
        "# Get the temperature in Fahrenheit from the user.\n",
        "fahrenheit = float(input(\"Enter temperature in Fahrenheit: \"))\n",
        "\n",
        "# Convert the temperature to Celsius.\n",
        "celsius = fahrenheit_to_celsius(fahrenheit)\n",
        "\n",
        "# Print the result.\n",
        "print(f\"Temperature: {fahrenheit}F = {celsius}C\")"
      ],
      "metadata": {
        "id": "xzE906rf11XL"
      },
      "execution_count": null,
      "outputs": []
    }
  ]
}