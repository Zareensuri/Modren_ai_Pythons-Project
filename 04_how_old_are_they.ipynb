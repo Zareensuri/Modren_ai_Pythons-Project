{
  "nbformat": 4,
  "nbformat_minor": 0,
  "metadata": {
    "colab": {
      "provenance": [],
      "authorship_tag": "ABX9TyMdbc+C2qemriN8D4mgzRUm",
      "include_colab_link": true
    },
    "kernelspec": {
      "name": "python3",
      "display_name": "Python 3"
    },
    "language_info": {
      "name": "python"
    }
  },
  "cells": [
    {
      "cell_type": "markdown",
      "metadata": {
        "id": "view-in-github",
        "colab_type": "text"
      },
      "source": [
        "<a href=\"https://colab.research.google.com/github/Zareensuri/Modren_ai_Pythons-Project/blob/homework_projects%2F00_intro_python/04_how_old_are_they.ipynb\" target=\"_parent\"><img src=\"https://colab.research.google.com/assets/colab-badge.svg\" alt=\"Open In Colab\"/></a>"
      ]
    },
    {
      "cell_type": "markdown",
      "source": [
        "# Problem Statement"
      ],
      "metadata": {
        "id": "fsg7A1Voyz3c"
      }
    },
    {
      "cell_type": "markdown",
      "source": [
        "Write a program to solve this age-related riddle!\n",
        "\n",
        "Anton, Beth, Chen, Drew, and Ethan are all friends. Their ages are as follows:\n",
        "\n",
        "Anton is 21 years old.\n",
        "\n",
        "Beth is 6 years older than Anton.\n",
        "\n",
        "Chen is 20 years older than Beth.\n",
        "\n",
        "Drew is as old as Chen's age plus Anton's age.\n",
        "\n",
        "Ethan is the same age as Chen.\n",
        "\n",
        "Your code should store each person's age to a variable and print their names and ages at the end. The autograder is sensitive to capitalization and punctuation, be careful! Your solution should look like this (the below numbers are made up -- your solution should have the correct values!):"
      ],
      "metadata": {
        "id": "_vK81kAey3Z1"
      }
    },
    {
      "cell_type": "markdown",
      "source": [
        "# Starter Code"
      ],
      "metadata": {
        "id": "3rgRNTyMzEpZ"
      }
    },
    {
      "cell_type": "code",
      "source": [
        "# Anton's age is given as 21.\n",
        "anton_age = 21\n",
        "\n",
        "# Beth is 6 years older than Anton.\n",
        "beth_age = anton_age + 6\n",
        "\n",
        "# Chen is 20 years older than Beth.\n",
        "chen_age = beth_age + 20\n",
        "\n",
        "# Drew is as old as Chen's age plus Anton's age.\n",
        "drew_age = chen_age + anton_age\n",
        "\n",
        "# Ethan is the same age as Chen.\n",
        "ethan_age = chen_age\n",
        "\n",
        "# Print the names and ages of each person.\n",
        "print(\"Anton is\", anton_age, \"years old.\")\n",
        "print(\"Beth is\", beth_age, \"years old.\")\n",
        "print(\"Chen is\", chen_age, \"years old.\")\n",
        "print(\"Drew is\", drew_age, \"years old.\")\n",
        "print(\"Ethan is\", ethan_age, \"years old.\")"
      ],
      "metadata": {
        "colab": {
          "base_uri": "https://localhost:8080/"
        },
        "id": "R2_GNvPi4JLY",
        "outputId": "ae5a71f5-b72f-40f3-e677-d1a509ee5885"
      },
      "execution_count": 8,
      "outputs": [
        {
          "output_type": "stream",
          "name": "stdout",
          "text": [
            "Anton is 21 years old.\n",
            "Beth is 27 years old.\n",
            "Chen is 47 years old.\n",
            "Drew is 68 years old.\n",
            "Ethan is 47 years old.\n"
          ]
        }
      ]
    }
  ]
}