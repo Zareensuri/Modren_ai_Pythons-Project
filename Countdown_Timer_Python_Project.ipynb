{
  "nbformat": 4,
  "nbformat_minor": 0,
  "metadata": {
    "colab": {
      "provenance": [],
      "toc_visible": true,
      "authorship_tag": "ABX9TyPk0O/YNuVklr2AWmReDzCN",
      "include_colab_link": true
    },
    "kernelspec": {
      "name": "python3",
      "display_name": "Python 3"
    },
    "language_info": {
      "name": "python"
    }
  },
  "cells": [
    {
      "cell_type": "markdown",
      "metadata": {
        "id": "view-in-github",
        "colab_type": "text"
      },
      "source": [
        "<a href=\"https://colab.research.google.com/github/Zareensuri/Modren_ai_Pythons-Project/blob/main/Countdown_Timer_Python_Project.ipynb\" target=\"_parent\"><img src=\"https://colab.research.google.com/assets/colab-badge.svg\" alt=\"Open In Colab\"/></a>"
      ]
    },
    {
      "cell_type": "markdown",
      "source": [
        "Python script for a countdown timer\n"
      ],
      "metadata": {
        "id": "EhHZT66wBip-"
      }
    },
    {
      "cell_type": "code",
      "source": [
        "import time\n",
        "\n",
        "def countdown(t):\n",
        "    while t:\n",
        "        mins, secs = divmod(t, 60)\n",
        "        timer = '{:02d}:{:02d}'.format(mins, secs)\n",
        "        print(timer, end=\"\\r\")\n",
        "        time.sleep(1)\n",
        "        t -= 1\n",
        "    print('Fire in the hole!!')\n",
        "\n",
        "# Get input from the user for the countdown duration\n",
        "t = input(\"Enter the time in seconds: \")\n",
        "\n",
        "# Convert the input to an integer\n",
        "t = int(t)\n",
        "\n",
        "# Start the countdown\n",
        "countdown(t)"
      ],
      "metadata": {
        "id": "joZu8uxqA2ER"
      },
      "execution_count": null,
      "outputs": []
    },
    {
      "cell_type": "markdown",
      "source": [
        "How it works:\n",
        "\n",
        "Import time: This line imports the time module, which is needed for the sleep() function to pause the countdown for one second between each iteration.\n",
        "Define countdown(t) function: This function takes the countdown duration (t) as input.\n",
        "while loop: The while loop continues as long as t is greater than 0.\n",
        "Calculate minutes and seconds: Inside the loop, divmod(t, 60) is used to calculate the remaining minutes and seconds.\n",
        "Format the timer: The timer variable is formatted using '{:02d}:{:02d}'.format(mins, secs) to display the time in MM:SS format.\n",
        "Print the timer: print(timer, end=\"\\r\") prints the timer to the console and uses end=\"\\r\" to overwrite the previous output on the same line, creating a dynamic countdown effect.\n",
        "Pause for one second: time.sleep(1) pauses the execution for one second.\n",
        "Decrement t: t -= 1 decrements the countdown duration by one second.\n",
        "Print 'Fire in the hole!!': After the loop completes (when t reaches 0), this line is printed to indicate the end of the countdown.\n",
        "Get input from the user: t = input(\"Enter the time in seconds: \") prompts the user to enter the countdown duration in seconds.\n",
        "Convert input to integer: t = int(t) converts the user input (which is initially a string) to an integer.\n",
        "Start the countdown: countdown(t) calls the countdown function with the user-provided duration to start the countdown."
      ],
      "metadata": {
        "id": "BjHxWMtNBGhN"
      }
    }
  ]
}